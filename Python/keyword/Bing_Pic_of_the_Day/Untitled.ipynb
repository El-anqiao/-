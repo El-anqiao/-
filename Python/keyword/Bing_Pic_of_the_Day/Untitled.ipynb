{
 "cells": [
  {
   "cell_type": "code",
   "execution_count": 1,
   "metadata": {},
   "outputs": [
    {
     "name": "stdout",
     "output_type": "stream",
     "text": [
      "\n",
      "    Zoom In-Out demo\n",
      "    ------------------\n",
      "    * [i] -> Zoom [i]n\n",
      "    * [o] -> Zoom [o]ut\n",
      "    * [ESC] -> Close program\n",
      "    \n",
      "** Zoom In: Image x 2\n",
      "** Zoom In: Image x 2\n",
      "** Zoom In: Image x 2\n",
      "** Zoom Out: Image / 2\n",
      "** Zoom Out: Image / 2\n",
      "** Zoom Out: Image / 2\n"
     ]
    }
   ],
   "source": [
    "import sys\n",
    "import cv2 as cv\n",
    "\n",
    "\n",
    "def main(argv):\n",
    "    print(\"\"\"\n",
    "    Zoom In-Out demo\n",
    "    ------------------\n",
    "    * [i] -> Zoom [i]n\n",
    "    * [o] -> Zoom [o]ut\n",
    "    * [ESC] -> Close program\n",
    "    \"\"\")\n",
    "    ## [load]\n",
    "    filename = 'pro1.jpg'\n",
    "\n",
    "    # Load the image\n",
    "    src = cv.imread(filename)\n",
    "\n",
    "    # Check if image is loaded fine\n",
    "    if src is None:\n",
    "        print ('Error opening image!')\n",
    "        print ('Usage: pyramids.py [image_name -- default ../data/chicky_512.png] \\n')\n",
    "        return -1\n",
    "    ## [load]\n",
    "    ## [loop]\n",
    "    while 1:\n",
    "        rows, cols, _channels = map(int, src.shape)\n",
    "        ## [show_image]\n",
    "        cv.imshow('Pyramids Demo', src)\n",
    "        ## [show_image]\n",
    "        k = cv.waitKey(0)\n",
    "\n",
    "        if k == 27:\n",
    "            break\n",
    "            ## [pyrup]\n",
    "        elif chr(k) == 'i':\n",
    "            src = cv.pyrUp(src, dstsize=(2 * cols, 2 * rows))\n",
    "            print ('** Zoom In: Image x 2')\n",
    "            ## [pyrup]\n",
    "            ## [pyrdown]\n",
    "        elif chr(k) == 'o':\n",
    "            src = cv.pyrDown(src, dstsize=(cols // 2, rows // 2))\n",
    "            print ('** Zoom Out: Image / 2')\n",
    "            ## [pyrdown]\n",
    "    ## [loop]\n",
    "\n",
    "    cv.destroyAllWindows()\n",
    "    return 0\n",
    "\n",
    "if __name__ == \"__main__\":\n",
    "    main(sys.argv[1:])"
   ]
  }
 ],
 "metadata": {
  "kernelspec": {
   "display_name": "Python 3",
   "language": "python",
   "name": "python3"
  },
  "language_info": {
   "codemirror_mode": {
    "name": "ipython",
    "version": 3
   },
   "file_extension": ".py",
   "mimetype": "text/x-python",
   "name": "python",
   "nbconvert_exporter": "python",
   "pygments_lexer": "ipython3",
   "version": "3.6.5"
  }
 },
 "nbformat": 4,
 "nbformat_minor": 2
}
