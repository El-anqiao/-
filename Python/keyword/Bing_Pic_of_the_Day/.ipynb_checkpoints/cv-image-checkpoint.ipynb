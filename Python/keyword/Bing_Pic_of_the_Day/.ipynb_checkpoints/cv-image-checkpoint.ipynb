{
 "cells": [
  {
   "cell_type": "code",
   "execution_count": 5,
   "metadata": {},
   "outputs": [],
   "source": [
    "import cv2\n",
    "import  numpy as np\n",
    "\n",
    "img=cv2.imread('pro1.jpg')\n",
    "img_back=cv2.imread('back.jpg')\n",
    "#日常缩放\n",
    "rows,cols,channels = img_back.shape\n",
    "img_back=cv2.resize(img_back,None,fx=0.7,fy=0.7)\n",
    "cv2.imshow('img_back',img_back)\n",
    "\n",
    "rows,cols,channels = img.shape\n",
    "img=cv2.resize(img,None,fx=0.4,fy=0.4)\n",
    "cv2.imshow('img',img)\n",
    "rows,cols,channels = img.shape#rows，cols最后一定要是前景图片的，后面遍历图片需要用到\n",
    "\n",
    "#转换hsv\n",
    "hsv=cv2.cvtColor(img,cv2.COLOR_BGR2HSV)\n",
    "#获取mask\n",
    "lower_blue=np.array([78,43,46])\n",
    "upper_blue=np.array([110,255,255])\n",
    "mask = cv2.inRange(hsv, lower_blue, upper_blue)\n",
    "cv2.imshow('Mask', mask)\n",
    "\n",
    "#腐蚀膨胀\n",
    "erode=cv2.erode(mask,None,iterations=1)\n",
    "cv2.imshow('erode',erode)\n",
    "dilate=cv2.dilate(erode,None,iterations=1)\n",
    "cv2.imshow('dilate',dilate)\n",
    "\n",
    "#遍历替换\n",
    "center=[50,50]#在新背景图片中的位置\n",
    "for i in range(rows):\n",
    "    for j in range(cols):\n",
    "        if dilate[i,j]==0:#0代表黑色的点\n",
    "            img_back[center[0]+i,center[1]+j]=img[i,j]#此处替换颜色，为BGR通道\n",
    "cv2.imshow('res',img_back)\n",
    "\n",
    "cv2.waitKey(0)\n",
    "cv2.destroyAllWindows()\n"
   ]
  }
 ],
 "metadata": {
  "kernelspec": {
   "display_name": "Python 3",
   "language": "python",
   "name": "python3"
  },
  "language_info": {
   "codemirror_mode": {
    "name": "ipython",
    "version": 3
   },
   "file_extension": ".py",
   "mimetype": "text/x-python",
   "name": "python",
   "nbconvert_exporter": "python",
   "pygments_lexer": "ipython3",
   "version": "3.7.0"
  }
 },
 "nbformat": 4,
 "nbformat_minor": 2
}
